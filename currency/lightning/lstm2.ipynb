{
 "cells": [
  {
   "cell_type": "code",
   "execution_count": 1,
   "metadata": {},
   "outputs": [],
   "source": [
    "import torch\n",
    "import math\n",
    "import torch.nn as nn\n",
    "import pandas as pd\n",
    "import torch.nn.functional as F\n",
    "from torch.optim import Adam\n",
    "\n",
    "import lightning as L\n",
    "from torch.utils.data import TensorDataset, DataLoader"
   ]
  },
  {
   "cell_type": "code",
   "execution_count": 2,
   "metadata": {},
   "outputs": [],
   "source": [
    "from CurrencyDataModule import CurrencyDataModule\n",
    "dm = CurrencyDataModule('../cleaned/usdrub_new.csv', seq_length=5, columns=['close'], batch_size=16)"
   ]
  },
  {
   "cell_type": "code",
   "execution_count": 4,
   "metadata": {},
   "outputs": [],
   "source": [
    "class LSTM(nn.Module):\n",
    "  def __init__(self):\n",
    "    super().__init__()\n",
    "\n",
    "    self.lstm = nn.LSTM(input_size=1, hidden_size=1, batch_first=True)\n",
    "    self.linear = nn.Linear(in_features=1, out_features=1)\n",
    "\n",
    "  def forward(self, input):\n",
    "    lstm_output = self.lstm(input)\n",
    "    \n",
    "    # [batch_size, 1]\n",
    "    last_unrolled_values = lstm_output[0][:, -1, :]\n",
    "    prediction = self.linear(last_unrolled_values)\n",
    "    return prediction"
   ]
  },
  {
   "cell_type": "code",
   "execution_count": null,
   "metadata": {},
   "outputs": [],
   "source": [
    "class LitLSTM(L.LightningModule):\n",
    "  def __init__(self, lstm, learning_rate):\n",
    "    super().__init__()\n",
    "    self.lstm = lstm\n",
    "    self.learning_rate = learning_rate\n",
    "\n",
    "  def configure_optimizers(self):\n",
    "    return Adam(self.parameters(), lr= self.learning_rate)\n",
    "  \n",
    "  def training_step(self, batch, batch_idx):\n",
    "    input = batch[0]\n",
    "    label = batch[1]\n",
    "    # [batch_size, 1]\n",
    "    output = self.lstm(input)\n",
    "    loss = (output - label).pow(2).sum()\n",
    "\n",
    "    self.log(\"train_loss\", loss)\n",
    "    return loss\n",
    "  \n",
    "  def test_step(self, batch, batch_idx):\n",
    "    input = batch[0]\n",
    "    label = batch[1]\n",
    "    # [batch_size, 1]\n",
    "    output = self.lstm(input)\n",
    "    loss = (output - label).pow(2).sum()\n",
    "\n",
    "    self.log(\"test_loss\", loss)\n",
    "    return loss"
   ]
  }
 ],
 "metadata": {
  "kernelspec": {
   "display_name": "Python 3",
   "language": "python",
   "name": "python3"
  },
  "language_info": {
   "codemirror_mode": {
    "name": "ipython",
    "version": 3
   },
   "file_extension": ".py",
   "mimetype": "text/x-python",
   "name": "python",
   "nbconvert_exporter": "python",
   "pygments_lexer": "ipython3",
   "version": "3.12.1"
  }
 },
 "nbformat": 4,
 "nbformat_minor": 2
}
