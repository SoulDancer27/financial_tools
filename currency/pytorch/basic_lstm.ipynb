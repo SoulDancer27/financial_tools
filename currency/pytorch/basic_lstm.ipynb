{
 "cells": [
  {
   "cell_type": "code",
   "execution_count": 2,
   "metadata": {},
   "outputs": [],
   "source": [
    "import torch\n",
    "import torch.nn as nn\n",
    "import torch.nn.functional as F\n",
    "from torch.optim import Adam\n",
    "\n",
    "import lightning as L\n",
    "from torch.utils.data import TensorDataset, DataLoader"
   ]
  },
  {
   "cell_type": "code",
   "execution_count": 3,
   "metadata": {},
   "outputs": [],
   "source": [
    "class LSTMbyHand(L.LightningModule):\n",
    "  def __init__(self):\n",
    "    super().__init__()\n",
    "    mean =torch.tensor(0.0)\n",
    "    std = torch.tensor(1.0)\n",
    "\n",
    "    self.wlr1 = nn.Parameter(torch.normal(mean=mean, std=std), requires_grad=True)\n",
    "    self.wlr2 = nn.Parameter(torch.normal(mean=mean, std=std), requires_grad=True)\n",
    "    self.blr1 = nn.Parameter(torch.tensor(0.), requires_grad=True)\n",
    "\n",
    "    self.wpr1 = nn.Parameter(torch.normal(mean=mean, std=std), requires_grad=True)\n",
    "    self.wpr2 = nn.Parameter(torch.normal(mean=mean, std=std), requires_grad=True)\n",
    "    self.bpr1 = nn.Parameter(torch.tensor(0.), requires_grad=True)\n",
    "\n",
    "    self.wp1 = nn.Parameter(torch.normal(mean=mean, std=std), requires_grad=True)\n",
    "    self.wp2 = nn.Parameter(torch.normal(mean=mean, std=std), requires_grad=True)\n",
    "    self.bp1 = nn.Parameter(torch.tensor(0.), requires_grad=True)\n",
    "\n",
    "    self.wo1 = nn.Parameter(torch.normal(mean=mean, std=std), requires_grad=True)\n",
    "    self.wo2 = nn.Parameter(torch.normal(mean=mean, std=std), requires_grad=True)\n",
    "    self.bo1 = nn.Parameter(torch.tensor(0.), requires_grad=True)\n",
    "\n",
    "  def lstm_unit(self, input_value, long_memory, short_memory):\n",
    "    long_remember_percent = torch.sigmoid((short_memory * self.wlr1 + input_value * self.wlr2) + self.blr1)\n",
    "\n",
    "    potential_remember_percent = torch.sigmoid((short_memory * self.wpr1 + input_value * self.wpr2) + self.bpr1)\n",
    "    potential_memory = torch.tanh((short_memory * self.wp1 + input_value * self.wp2) + self.bp1)\n",
    "\n",
    "    updated_long_memory = long_memory * long_remember_percent + potential_memory * potential_remember_percent\n",
    "\n",
    "    output_percent = torch.sigmoid((short_memory * self.wo1 + input_value * self.wo2) + self.bo1)\n",
    "    updated_short_memory = torch.tanh(updated_long_memory) * output_percent\n",
    "    return ([updated_long_memory, updated_short_memory])\n",
    "  \n",
    "  def forward(self, input):\n",
    "    long_memory = 0\n",
    "    short_memory = 0\n",
    "\n",
    "    day1 = input[0]\n",
    "    day2 = input[1]\n",
    "    day3 = input[2]\n",
    "    day4 = input[3]\n",
    "\n",
    "    long_memory, short_memory = self.lstm_unit(day1, long_memory, short_memory)\n",
    "    long_memory, short_memory = self.lstm_unit(day2, long_memory, short_memory)\n",
    "    long_memory, short_memory = self.lstm_unit(day3, long_memory, short_memory)\n",
    "    long_memory, short_memory = self.lstm_unit(day4, long_memory, short_memory)\n",
    "\n",
    "    return short_memory\n",
    "  \n",
    "  def configure_optimizers(self):\n",
    "    return Adam(self.parameters())\n",
    "  \n",
    "  def training_step(self, batch, batch_idx):\n",
    "    input_i, label_i = batch\n",
    "    output_i = self.forward(input_i[0])\n",
    "    loss = (output_i - label_i)**2\n",
    "\n",
    "    self.log(\"train_loss\", loss)\n",
    "\n",
    "    if (label_i == 0):\n",
    "      self.log(\"out_0\", output_i)\n",
    "    else:\n",
    "      self.log(\"out_1\", output_i)\n",
    "\n",
    "    return loss"
   ]
  },
  {
   "cell_type": "code",
   "execution_count": 4,
   "metadata": {},
   "outputs": [],
   "source": [
    "model = LSTMbyHand()"
   ]
  },
  {
   "cell_type": "code",
   "execution_count": 7,
   "metadata": {},
   "outputs": [],
   "source": [
    "inputs = torch.tensor([[0., 0.5, 0.25, 1.], [1., 0.5, 0.25, 1.]])\n",
    "labels = torch.tensor([0., 1.])\n",
    "\n",
    "dataset = TensorDataset(inputs, labels)\n",
    "dataloader= DataLoader(dataset)"
   ]
  },
  {
   "cell_type": "code",
   "execution_count": 8,
   "metadata": {},
   "outputs": [
    {
     "name": "stderr",
     "output_type": "stream",
     "text": [
      "GPU available: True (cuda), used: True\n",
      "TPU available: False, using: 0 TPU cores\n",
      "IPU available: False, using: 0 IPUs\n",
      "HPU available: False, using: 0 HPUs\n",
      "You are using a CUDA device ('NVIDIA GeForce RTX 3060 Ti') that has Tensor Cores. To properly utilize them, you should set `torch.set_float32_matmul_precision('medium' | 'high')` which will trade-off precision for performance. For more details, read https://pytorch.org/docs/stable/generated/torch.set_float32_matmul_precision.html#torch.set_float32_matmul_precision\n",
      "Missing logger folder: c:\\Users\\igor\\Documents\\GitHub\\financial_tools\\currency\\pytorch\\lightning_logs\n",
      "LOCAL_RANK: 0 - CUDA_VISIBLE_DEVICES: [0]\n",
      "\n",
      "  | Name         | Type | Params\n",
      "--------------------------------------\n",
      "  | other params | n/a  | 12    \n",
      "--------------------------------------\n",
      "12        Trainable params\n",
      "0         Non-trainable params\n",
      "12        Total params\n",
      "0.000     Total estimated model params size (MB)\n",
      "c:\\Users\\igor\\AppData\\Local\\Programs\\Python\\Python312\\Lib\\site-packages\\lightning\\pytorch\\trainer\\connectors\\data_connector.py:441: The 'train_dataloader' does not have many workers which may be a bottleneck. Consider increasing the value of the `num_workers` argument` to `num_workers=19` in the `DataLoader` to improve performance.\n",
      "c:\\Users\\igor\\AppData\\Local\\Programs\\Python\\Python312\\Lib\\site-packages\\lightning\\pytorch\\loops\\fit_loop.py:298: The number of training batches (2) is smaller than the logging interval Trainer(log_every_n_steps=50). Set a lower value for log_every_n_steps if you want to see logs for the training epoch.\n"
     ]
    },
    {
     "name": "stdout",
     "output_type": "stream",
     "text": [
      "Epoch 1999: 100%|██████████| 2/2 [00:00<00:00, 153.86it/s, v_num=0]"
     ]
    },
    {
     "name": "stderr",
     "output_type": "stream",
     "text": [
      "`Trainer.fit` stopped: `max_epochs=2000` reached.\n"
     ]
    },
    {
     "name": "stdout",
     "output_type": "stream",
     "text": [
      "Epoch 1999: 100%|██████████| 2/2 [00:00<00:00, 90.91it/s, v_num=0] \n"
     ]
    }
   ],
   "source": [
    "trainer = L.Trainer(max_epochs = 2000)\n",
    "trainer.fit(model, train_dataloaders=dataloader)"
   ]
  },
  {
   "cell_type": "code",
   "execution_count": 9,
   "metadata": {},
   "outputs": [
    {
     "name": "stdout",
     "output_type": "stream",
     "text": [
      "tensor(7.0823e-05, grad_fn=<MulBackward0>)\n",
      "tensor(0.9174, grad_fn=<MulBackward0>)\n"
     ]
    }
   ],
   "source": [
    "print(model(torch.tensor([0., 0.5, 0.25, 1.]).detach()))\n",
    "print(model(torch.tensor([1., 0.5, 0.25, 1.]).detach()))"
   ]
  },
  {
   "cell_type": "code",
   "execution_count": 10,
   "metadata": {},
   "outputs": [],
   "source": [
    "path_to_best_checkpoint = trainer.checkpoint_callback.best_model_path"
   ]
  },
  {
   "cell_type": "code",
   "execution_count": 11,
   "metadata": {},
   "outputs": [
    {
     "name": "stderr",
     "output_type": "stream",
     "text": [
      "GPU available: True (cuda), used: True\n",
      "TPU available: False, using: 0 TPU cores\n",
      "IPU available: False, using: 0 IPUs\n",
      "HPU available: False, using: 0 HPUs\n",
      "Restoring states from the checkpoint path at c:\\Users\\igor\\Documents\\GitHub\\financial_tools\\currency\\pytorch\\lightning_logs\\version_0\\checkpoints\\epoch=1999-step=4000.ckpt\n",
      "c:\\Users\\igor\\AppData\\Local\\Programs\\Python\\Python312\\Lib\\site-packages\\lightning\\pytorch\\callbacks\\model_checkpoint.py:361: The dirpath has changed from 'c:\\\\Users\\\\igor\\\\Documents\\\\GitHub\\\\financial_tools\\\\currency\\\\pytorch\\\\lightning_logs\\\\version_0\\\\checkpoints' to 'c:\\\\Users\\\\igor\\\\Documents\\\\GitHub\\\\financial_tools\\\\currency\\\\pytorch\\\\lightning_logs\\\\version_1\\\\checkpoints', therefore `best_model_score`, `kth_best_model_path`, `kth_value`, `last_model_path` and `best_k_models` won't be reloaded. Only `best_model_path` will be reloaded.\n",
      "LOCAL_RANK: 0 - CUDA_VISIBLE_DEVICES: [0]\n",
      "\n",
      "  | Name         | Type | Params\n",
      "--------------------------------------\n",
      "  | other params | n/a  | 12    \n",
      "--------------------------------------\n",
      "12        Trainable params\n",
      "0         Non-trainable params\n",
      "12        Total params\n",
      "0.000     Total estimated model params size (MB)\n",
      "Restored all states from the checkpoint at c:\\Users\\igor\\Documents\\GitHub\\financial_tools\\currency\\pytorch\\lightning_logs\\version_0\\checkpoints\\epoch=1999-step=4000.ckpt\n",
      "c:\\Users\\igor\\AppData\\Local\\Programs\\Python\\Python312\\Lib\\site-packages\\lightning\\pytorch\\trainer\\connectors\\data_connector.py:441: The 'train_dataloader' does not have many workers which may be a bottleneck. Consider increasing the value of the `num_workers` argument` to `num_workers=19` in the `DataLoader` to improve performance.\n",
      "c:\\Users\\igor\\AppData\\Local\\Programs\\Python\\Python312\\Lib\\site-packages\\lightning\\pytorch\\loops\\fit_loop.py:298: The number of training batches (2) is smaller than the logging interval Trainer(log_every_n_steps=50). Set a lower value for log_every_n_steps if you want to see logs for the training epoch.\n"
     ]
    },
    {
     "name": "stdout",
     "output_type": "stream",
     "text": [
      "Epoch 2999: 100%|██████████| 2/2 [00:00<00:00, 142.85it/s, v_num=1]"
     ]
    },
    {
     "name": "stderr",
     "output_type": "stream",
     "text": [
      "`Trainer.fit` stopped: `max_epochs=3000` reached.\n"
     ]
    },
    {
     "name": "stdout",
     "output_type": "stream",
     "text": [
      "Epoch 2999: 100%|██████████| 2/2 [00:00<00:00, 100.01it/s, v_num=1]\n"
     ]
    }
   ],
   "source": [
    "trainer = L.Trainer(max_epochs = 3000)\n",
    "trainer.fit(model, train_dataloaders=dataloader, ckpt_path = path_to_best_checkpoint)"
   ]
  },
  {
   "cell_type": "code",
   "execution_count": 12,
   "metadata": {},
   "outputs": [
    {
     "name": "stdout",
     "output_type": "stream",
     "text": [
      "tensor(1.5967e-05, grad_fn=<MulBackward0>)\n",
      "tensor(0.9566, grad_fn=<MulBackward0>)\n"
     ]
    }
   ],
   "source": [
    "print(model(torch.tensor([0., 0.5, 0.25, 1.]).detach()))\n",
    "print(model(torch.tensor([1., 0.5, 0.25, 1.]).detach()))"
   ]
  },
  {
   "cell_type": "code",
   "execution_count": 13,
   "metadata": {},
   "outputs": [],
   "source": [
    "path_to_best_checkpoint = trainer.checkpoint_callback.best_model_path"
   ]
  },
  {
   "cell_type": "code",
   "execution_count": 14,
   "metadata": {},
   "outputs": [
    {
     "name": "stderr",
     "output_type": "stream",
     "text": [
      "GPU available: True (cuda), used: True\n",
      "TPU available: False, using: 0 TPU cores\n",
      "IPU available: False, using: 0 IPUs\n",
      "HPU available: False, using: 0 HPUs\n",
      "Restoring states from the checkpoint path at c:\\Users\\igor\\Documents\\GitHub\\financial_tools\\currency\\pytorch\\lightning_logs\\version_1\\checkpoints\\epoch=2999-step=6000.ckpt\n",
      "c:\\Users\\igor\\AppData\\Local\\Programs\\Python\\Python312\\Lib\\site-packages\\lightning\\pytorch\\callbacks\\model_checkpoint.py:361: The dirpath has changed from 'c:\\\\Users\\\\igor\\\\Documents\\\\GitHub\\\\financial_tools\\\\currency\\\\pytorch\\\\lightning_logs\\\\version_1\\\\checkpoints' to 'c:\\\\Users\\\\igor\\\\Documents\\\\GitHub\\\\financial_tools\\\\currency\\\\pytorch\\\\lightning_logs\\\\version_2\\\\checkpoints', therefore `best_model_score`, `kth_best_model_path`, `kth_value`, `last_model_path` and `best_k_models` won't be reloaded. Only `best_model_path` will be reloaded.\n",
      "LOCAL_RANK: 0 - CUDA_VISIBLE_DEVICES: [0]\n",
      "\n",
      "  | Name         | Type | Params\n",
      "--------------------------------------\n",
      "  | other params | n/a  | 12    \n",
      "--------------------------------------\n",
      "12        Trainable params\n",
      "0         Non-trainable params\n",
      "12        Total params\n",
      "0.000     Total estimated model params size (MB)\n",
      "Restored all states from the checkpoint at c:\\Users\\igor\\Documents\\GitHub\\financial_tools\\currency\\pytorch\\lightning_logs\\version_1\\checkpoints\\epoch=2999-step=6000.ckpt\n"
     ]
    },
    {
     "name": "stdout",
     "output_type": "stream",
     "text": [
      "Epoch 4999: 100%|██████████| 2/2 [00:00<00:00, 133.34it/s, v_num=2]"
     ]
    },
    {
     "name": "stderr",
     "output_type": "stream",
     "text": [
      "`Trainer.fit` stopped: `max_epochs=5000` reached.\n"
     ]
    },
    {
     "name": "stdout",
     "output_type": "stream",
     "text": [
      "Epoch 4999: 100%|██████████| 2/2 [00:00<00:00, 100.00it/s, v_num=2]\n"
     ]
    }
   ],
   "source": [
    "trainer = L.Trainer(max_epochs = 5000)\n",
    "trainer.fit(model, train_dataloaders=dataloader, ckpt_path = path_to_best_checkpoint)"
   ]
  },
  {
   "cell_type": "code",
   "execution_count": 15,
   "metadata": {},
   "outputs": [],
   "source": [
    "class LightningLSTM(L.LightningModule):\n",
    "  def __init__(self):\n",
    "    super().__init__()\n",
    "\n",
    "    self.lstm = nn.LSTM(input_size=1, hidden_size=1)\n",
    "\n",
    "  def forward(self, input):\n",
    "    input_trans = input.view(len(input), 1)\n",
    "\n",
    "    lstm_out, temp = self.lstm(input_trans)\n",
    "\n",
    "    prediction = lstm_out[-1]\n",
    "    return prediction\n",
    "  \n",
    "  def configure_optimizers(self):\n",
    "    return Adam(self.parameters(), lr= 0.1)\n",
    "  \n",
    "  def training_step(self, batch, batch_idx):\n",
    "    input_i, label_i = batch\n",
    "    output_i = self.forward(input_i[0])\n",
    "    loss = (output_i - label_i)**2\n",
    "\n",
    "    self.log(\"train_loss\", loss)\n",
    "\n",
    "    if (label_i == 0):\n",
    "      self.log(\"out_0\", output_i)\n",
    "    else:\n",
    "      self.log(\"out_1\", output_i)\n",
    "\n",
    "    return loss"
   ]
  },
  {
   "cell_type": "code",
   "execution_count": 16,
   "metadata": {},
   "outputs": [],
   "source": [
    "model = LightningLSTM()"
   ]
  },
  {
   "cell_type": "code",
   "execution_count": 17,
   "metadata": {},
   "outputs": [
    {
     "name": "stderr",
     "output_type": "stream",
     "text": [
      "GPU available: True (cuda), used: True\n",
      "TPU available: False, using: 0 TPU cores\n",
      "IPU available: False, using: 0 IPUs\n",
      "HPU available: False, using: 0 HPUs\n",
      "LOCAL_RANK: 0 - CUDA_VISIBLE_DEVICES: [0]\n",
      "\n",
      "  | Name | Type | Params\n",
      "------------------------------\n",
      "0 | lstm | LSTM | 16    \n",
      "------------------------------\n",
      "16        Trainable params\n",
      "0         Non-trainable params\n",
      "16        Total params\n",
      "0.000     Total estimated model params size (MB)\n",
      "c:\\Users\\igor\\AppData\\Local\\Programs\\Python\\Python312\\Lib\\site-packages\\lightning\\pytorch\\trainer\\connectors\\data_connector.py:441: The 'train_dataloader' does not have many workers which may be a bottleneck. Consider increasing the value of the `num_workers` argument` to `num_workers=19` in the `DataLoader` to improve performance.\n"
     ]
    },
    {
     "name": "stdout",
     "output_type": "stream",
     "text": [
      "Epoch 299: 100%|██████████| 2/2 [00:00<00:00, 190.09it/s, v_num=3]"
     ]
    },
    {
     "name": "stderr",
     "output_type": "stream",
     "text": [
      "`Trainer.fit` stopped: `max_epochs=300` reached.\n"
     ]
    },
    {
     "name": "stdout",
     "output_type": "stream",
     "text": [
      "Epoch 299: 100%|██████████| 2/2 [00:00<00:00, 133.14it/s, v_num=3]\n"
     ]
    }
   ],
   "source": [
    "trainer = L.Trainer(max_epochs = 300, log_every_n_steps=2)\n",
    "trainer.fit(model, train_dataloaders=dataloader)"
   ]
  }
 ],
 "metadata": {
  "kernelspec": {
   "display_name": "Python 3",
   "language": "python",
   "name": "python3"
  },
  "language_info": {
   "codemirror_mode": {
    "name": "ipython",
    "version": 3
   },
   "file_extension": ".py",
   "mimetype": "text/x-python",
   "name": "python",
   "nbconvert_exporter": "python",
   "pygments_lexer": "ipython3",
   "version": "3.12.1"
  }
 },
 "nbformat": 4,
 "nbformat_minor": 2
}
