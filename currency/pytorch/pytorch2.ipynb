{
 "cells": [
  {
   "cell_type": "code",
   "execution_count": 17,
   "metadata": {},
   "outputs": [],
   "source": [
    "import pandas as pd\n",
    "from torch.utils.data import DataLoader\n",
    "import torch.nn as nn\n",
    "from CurrencyDataset import CurrencyDataset\n",
    "import math"
   ]
  },
  {
   "cell_type": "code",
   "execution_count": 2,
   "metadata": {},
   "outputs": [],
   "source": [
    "df = pd.read_csv('../cleaned/usdrub_new.csv')"
   ]
  },
  {
   "cell_type": "code",
   "execution_count": 3,
   "metadata": {},
   "outputs": [],
   "source": [
    "columns = ['open', 'high', 'low', 'close']\n",
    "df = df[columns]"
   ]
  },
  {
   "cell_type": "code",
   "execution_count": 4,
   "metadata": {},
   "outputs": [],
   "source": [
    "training_length = math.floor(len(df) * 0.7)\n",
    "train_df, test_df = df.iloc[:training_length], df.iloc[training_length:]"
   ]
  },
  {
   "cell_type": "code",
   "execution_count": 5,
   "metadata": {},
   "outputs": [],
   "source": [
    "train_data = CurrencyDataset(train_df,  seq_length = 5)\n",
    "test_data = CurrencyDataset(test_df,  seq_length = 5)"
   ]
  },
  {
   "cell_type": "code",
   "execution_count": 6,
   "metadata": {},
   "outputs": [],
   "source": [
    "train_dl = DataLoader(train_data, batch_size=8)\n",
    "test_dl = DataLoader(test_data, batch_size=8)"
   ]
  },
  {
   "cell_type": "code",
   "execution_count": 22,
   "metadata": {},
   "outputs": [
    {
     "data": {
      "text/plain": [
       "{'data': tensor([[[34.8934, 34.9337, 34.5848, 34.7102],\n",
       "          [34.7300, 34.8300, 34.5300, 34.7500],\n",
       "          [35.7747, 35.8635, 35.6700, 35.7100],\n",
       "          [39.7165, 39.9751, 39.6550, 39.8873],\n",
       "          [39.8959, 40.1560, 39.6877, 39.9721]],\n",
       " \n",
       "         [[34.7300, 34.8300, 34.5300, 34.7500],\n",
       "          [35.7747, 35.8635, 35.6700, 35.7100],\n",
       "          [39.7165, 39.9751, 39.6550, 39.8873],\n",
       "          [39.8959, 40.1560, 39.6877, 39.9721],\n",
       "          [41.4547, 43.1366, 41.4072, 43.0322]],\n",
       " \n",
       "         [[35.7747, 35.8635, 35.6700, 35.7100],\n",
       "          [39.7165, 39.9751, 39.6550, 39.8873],\n",
       "          [39.8959, 40.1560, 39.6877, 39.9721],\n",
       "          [41.4547, 43.1366, 41.4072, 43.0322],\n",
       "          [42.9971, 43.0322, 42.9971, 43.0233]],\n",
       " \n",
       "         [[39.7165, 39.9751, 39.6550, 39.8873],\n",
       "          [39.8959, 40.1560, 39.6877, 39.9721],\n",
       "          [41.4547, 43.1366, 41.4072, 43.0322],\n",
       "          [42.9971, 43.0322, 42.9971, 43.0233],\n",
       "          [43.1758, 43.6175, 43.1471, 43.5873]],\n",
       " \n",
       "         [[39.8959, 40.1560, 39.6877, 39.9721],\n",
       "          [41.4547, 43.1366, 41.4072, 43.0322],\n",
       "          [42.9971, 43.0322, 42.9971, 43.0233],\n",
       "          [43.1758, 43.6175, 43.1471, 43.5873],\n",
       "          [43.5911, 43.8006, 43.4850, 43.5678]],\n",
       " \n",
       "         [[41.4547, 43.1366, 41.4072, 43.0322],\n",
       "          [42.9971, 43.0322, 42.9971, 43.0233],\n",
       "          [43.1758, 43.6175, 43.1471, 43.5873],\n",
       "          [43.5911, 43.8006, 43.4850, 43.5678],\n",
       "          [43.5845, 45.0068, 43.5643, 44.9000]],\n",
       " \n",
       "         [[42.9971, 43.0322, 42.9971, 43.0233],\n",
       "          [43.1758, 43.6175, 43.1471, 43.5873],\n",
       "          [43.5911, 43.8006, 43.4850, 43.5678],\n",
       "          [43.5845, 45.0068, 43.5643, 44.9000],\n",
       "          [44.9000, 46.8710, 44.7786, 46.8320]],\n",
       " \n",
       "         [[43.1758, 43.6175, 43.1471, 43.5873],\n",
       "          [43.5911, 43.8006, 43.4850, 43.5678],\n",
       "          [43.5845, 45.0068, 43.5643, 44.9000],\n",
       "          [44.9000, 46.8710, 44.7786, 46.8320],\n",
       "          [46.8270, 48.6445, 45.5778, 46.6655]]], dtype=torch.float64),\n",
       " 'target': tensor([[41.4547, 43.1366, 41.4072, 43.0322],\n",
       "         [42.9971, 43.0322, 42.9971, 43.0233],\n",
       "         [43.1758, 43.6175, 43.1471, 43.5873],\n",
       "         [43.5911, 43.8006, 43.4850, 43.5678],\n",
       "         [43.5845, 45.0068, 43.5643, 44.9000],\n",
       "         [44.9000, 46.8710, 44.7786, 46.8320],\n",
       "         [46.8270, 48.6445, 45.5778, 46.6655],\n",
       "         [46.6980, 46.7720, 46.6548, 46.7041]])}"
      ]
     },
     "execution_count": 22,
     "metadata": {},
     "output_type": "execute_result"
    }
   ],
   "source": [
    "next(iter(train_dl))"
   ]
  },
  {
   "cell_type": "code",
   "execution_count": 19,
   "metadata": {},
   "outputs": [
    {
     "name": "stdout",
     "output_type": "stream",
     "text": [
      "Training Set:\n",
      "torch.Size([8, 5, 4])\n",
      "torch.Size([8, 4])\n"
     ]
    }
   ],
   "source": [
    "print('Training Set:')\n",
    "for sample in train_dl:  \n",
    "    print(sample['data'].size())\n",
    "    print(sample['target'].size())\n",
    "    break"
   ]
  },
  {
   "cell_type": "code",
   "execution_count": 18,
   "metadata": {},
   "outputs": [],
   "source": [
    "class LSTM(nn.Module):\n",
    "\n",
    "    def __init__(self, input_size, hidden_size, num_layers):\n",
    "        super().__init__()\n",
    "        \n",
    "        self.lstm = nn.LSTM(input_size=input_size, hidden_size=hidden_size,\n",
    "                            num_layers=num_layers, batch_first=True)\n",
    "        \n",
    "        self.fc = nn.Linear(hidden_size, 1)\n",
    "\n",
    "    def forward(self, x):\n",
    "        # out: (batch_size, seq_length, hidden_size)\n",
    "        out, _ = self.lstm(x)\n",
    "        # take the out at the last time step\n",
    "        # out: (batch_size, hidden_size)\n",
    "        out = out[:, -1]\n",
    "        # pred: (batch_size, 1)\n",
    "        pred = self.fc(out)\n",
    "        # output: batch_size\n",
    "        return pred.squeeze()"
   ]
  }
 ],
 "metadata": {
  "kernelspec": {
   "display_name": "Python 3",
   "language": "python",
   "name": "python3"
  },
  "language_info": {
   "codemirror_mode": {
    "name": "ipython",
    "version": 3
   },
   "file_extension": ".py",
   "mimetype": "text/x-python",
   "name": "python",
   "nbconvert_exporter": "python",
   "pygments_lexer": "ipython3",
   "version": "3.12.1"
  }
 },
 "nbformat": 4,
 "nbformat_minor": 2
}
