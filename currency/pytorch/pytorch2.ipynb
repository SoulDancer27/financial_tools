{
 "cells": [
  {
   "cell_type": "code",
   "execution_count": 1,
   "metadata": {},
   "outputs": [],
   "source": [
    "import pandas as pd\n",
    "from torch.utils.data import DataLoader\n",
    "import torch"
   ]
  },
  {
   "cell_type": "code",
   "execution_count": 2,
   "metadata": {},
   "outputs": [],
   "source": [
    "data = pd.read_csv('../cleaned/usdrub_new.csv')"
   ]
  },
  {
   "cell_type": "code",
   "execution_count": 3,
   "metadata": {},
   "outputs": [],
   "source": [
    "df = data[['close', 'high', 'open', 'low', 'vol']]\n",
    "tensor = torch.tensor(df.values)\n",
    "if torch.cuda.is_available():\n",
    "    tensor = tensor.to(\"cuda\")"
   ]
  },
  {
   "cell_type": "code",
   "execution_count": 4,
   "metadata": {},
   "outputs": [],
   "source": [
    "import math\n",
    "training_length = math.floor(len(tensor) * 0.8)\n",
    "training_data, test_data = tensor[:training_length], tensor[training_length:]"
   ]
  },
  {
   "cell_type": "code",
   "execution_count": 5,
   "metadata": {},
   "outputs": [],
   "source": [
    "train_dataloader = DataLoader(training_data, batch_size=8)\n",
    "test_dataloader = DataLoader(test_data, batch_size=8)"
   ]
  },
  {
   "cell_type": "code",
   "execution_count": 6,
   "metadata": {},
   "outputs": [
    {
     "data": {
      "text/plain": [
       "tensor([[3.4710e+01, 3.4934e+01, 3.4893e+01, 3.4585e+01, 7.6690e+03],\n",
       "        [3.4750e+01, 3.4830e+01, 3.4730e+01, 3.4530e+01, 1.0000e+01],\n",
       "        [3.5710e+01, 3.5864e+01, 3.5775e+01, 3.5670e+01, 1.5640e+03],\n",
       "        [3.9887e+01, 3.9975e+01, 3.9717e+01, 3.9655e+01, 3.7600e+02],\n",
       "        [3.9972e+01, 4.0156e+01, 3.9896e+01, 3.9688e+01, 9.0100e+02],\n",
       "        [4.3032e+01, 4.3137e+01, 4.1455e+01, 4.1407e+01, 9.5184e+04],\n",
       "        [4.3023e+01, 4.3032e+01, 4.2997e+01, 4.2997e+01, 2.9000e+01],\n",
       "        [4.3587e+01, 4.3617e+01, 4.3176e+01, 4.3147e+01, 1.6348e+05]],\n",
       "       device='cuda:0', dtype=torch.float64)"
      ]
     },
     "execution_count": 6,
     "metadata": {},
     "output_type": "execute_result"
    }
   ],
   "source": [
    "next(iter(train_dataloader))"
   ]
  },
  {
   "cell_type": "code",
   "execution_count": 7,
   "metadata": {},
   "outputs": [],
   "source": [
    "from CurrencyDataset import CurrencyDataset\n",
    "cur = CurrencyDataset(csv_file='../cleaned/usdrub_new.csv')"
   ]
  },
  {
   "cell_type": "code",
   "execution_count": 8,
   "metadata": {},
   "outputs": [],
   "source": [
    "dataloader = DataLoader(cur, batch_size=8)"
   ]
  },
  {
   "cell_type": "code",
   "execution_count": 9,
   "metadata": {},
   "outputs": [
    {
     "data": {
      "text/plain": [
       "tensor([[3.4893e+01, 3.4934e+01, 3.4710e+01, 7.6690e+03],\n",
       "        [3.4730e+01, 3.4830e+01, 3.4750e+01, 1.0000e+01],\n",
       "        [3.5775e+01, 3.5864e+01, 3.5710e+01, 1.5640e+03],\n",
       "        [3.9717e+01, 3.9975e+01, 3.9887e+01, 3.7600e+02],\n",
       "        [3.9896e+01, 4.0156e+01, 3.9972e+01, 9.0100e+02],\n",
       "        [4.1455e+01, 4.3137e+01, 4.3032e+01, 9.5184e+04],\n",
       "        [4.2997e+01, 4.3032e+01, 4.3023e+01, 2.9000e+01],\n",
       "        [4.3176e+01, 4.3617e+01, 4.3587e+01, 1.6348e+05]], dtype=torch.float64)"
      ]
     },
     "execution_count": 9,
     "metadata": {},
     "output_type": "execute_result"
    }
   ],
   "source": [
    "next(iter(dataloader))"
   ]
  }
 ],
 "metadata": {
  "kernelspec": {
   "display_name": "Python 3",
   "language": "python",
   "name": "python3"
  },
  "language_info": {
   "codemirror_mode": {
    "name": "ipython",
    "version": 3
   },
   "file_extension": ".py",
   "mimetype": "text/x-python",
   "name": "python",
   "nbconvert_exporter": "python",
   "pygments_lexer": "ipython3",
   "version": "3.12.1"
  }
 },
 "nbformat": 4,
 "nbformat_minor": 2
}
