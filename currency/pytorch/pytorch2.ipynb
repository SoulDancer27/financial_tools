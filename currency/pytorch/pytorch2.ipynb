{
 "cells": [
  {
   "cell_type": "code",
   "execution_count": 153,
   "metadata": {},
   "outputs": [],
   "source": [
    "import pandas as pd\n",
    "from torch.utils.data import DataLoader\n",
    "import torch.nn as nn\n",
    "from CurrencyDataset import CurrencyDataset\n",
    "from torch.utils.tensorboard.writer import SummaryWriter\n",
    "from datetime import datetime\n",
    "import math\n",
    "import time "
   ]
  },
  {
   "cell_type": "code",
   "execution_count": 2,
   "metadata": {},
   "outputs": [],
   "source": [
    "df = pd.read_csv('../cleaned/usdrub_new.csv')"
   ]
  },
  {
   "cell_type": "code",
   "execution_count": 3,
   "metadata": {},
   "outputs": [],
   "source": [
    "columns = ['close']\n",
    "df = df[columns]"
   ]
  },
  {
   "cell_type": "code",
   "execution_count": 4,
   "metadata": {},
   "outputs": [],
   "source": [
    "training_length = math.floor(len(df) * 0.7)\n",
    "train_df, test_df = df.iloc[:training_length], df.iloc[training_length:]"
   ]
  },
  {
   "cell_type": "code",
   "execution_count": 5,
   "metadata": {},
   "outputs": [],
   "source": [
    "train_data = CurrencyDataset(train_df,  seq_length = 5)\n",
    "test_data = CurrencyDataset(test_df,  seq_length = 5)"
   ]
  },
  {
   "cell_type": "code",
   "execution_count": 6,
   "metadata": {},
   "outputs": [],
   "source": [
    "train_dl = DataLoader(train_data, batch_size=8)\n",
    "test_dl = DataLoader(test_data, batch_size=8)"
   ]
  },
  {
   "cell_type": "code",
   "execution_count": 103,
   "metadata": {},
   "outputs": [
    {
     "name": "stdout",
     "output_type": "stream",
     "text": [
      "Training Set:\n",
      "torch.Size([8, 5, 1])\n",
      "torch.Size([8, 1])\n"
     ]
    }
   ],
   "source": [
    "print('Training Set:')\n",
    "for sample in train_dl:  \n",
    "    print(sample['data'].size())\n",
    "    print(sample['target'].size())\n",
    "    break"
   ]
  },
  {
   "cell_type": "code",
   "execution_count": 144,
   "metadata": {},
   "outputs": [],
   "source": [
    "class LSTM(nn.Module):\n",
    "\n",
    "    def __init__(self, input_size, hidden_size, num_layers):\n",
    "        super().__init__()\n",
    "        \n",
    "        self.lstm = nn.LSTM(input_size=input_size, hidden_size=hidden_size,\n",
    "                            num_layers=num_layers, batch_first=True)\n",
    "        \n",
    "        self.linear = nn.Linear(hidden_size, 1)\n",
    "\n",
    "    def forward(self, x):\n",
    "        lstm_out, _ = self.lstm(x)\n",
    "        predictions = self.linear(lstm_out[:,-1,:])\n",
    "        return predictions"
   ]
  },
  {
   "cell_type": "code",
   "execution_count": 145,
   "metadata": {},
   "outputs": [
    {
     "name": "stdout",
     "output_type": "stream",
     "text": [
      "Using cuda device\n"
     ]
    }
   ],
   "source": [
    "import torch\n",
    "device = (\n",
    "    \"cuda\"\n",
    "    if torch.cuda.is_available()\n",
    "    else \"mps\"\n",
    "    if torch.backends.mps.is_available()\n",
    "    else \"cpu\"\n",
    ")\n",
    "print(f\"Using {device} device\")"
   ]
  },
  {
   "cell_type": "code",
   "execution_count": 146,
   "metadata": {},
   "outputs": [],
   "source": [
    "rnn = LSTM(1, 4, 1)"
   ]
  },
  {
   "cell_type": "code",
   "execution_count": 129,
   "metadata": {},
   "outputs": [],
   "source": [
    "input = next(iter(train_dl))\n",
    "input = input['data']"
   ]
  },
  {
   "cell_type": "code",
   "execution_count": 116,
   "metadata": {},
   "outputs": [
    {
     "data": {
      "text/plain": [
       "torch.Size([8, 5, 1])"
      ]
     },
     "execution_count": 116,
     "metadata": {},
     "output_type": "execute_result"
    }
   ],
   "source": [
    "input.shape"
   ]
  },
  {
   "cell_type": "code",
   "execution_count": 134,
   "metadata": {},
   "outputs": [
    {
     "name": "stdout",
     "output_type": "stream",
     "text": [
      "tensor([[0.2693],\n",
      "        [0.2692],\n",
      "        [0.2692],\n",
      "        [0.2692],\n",
      "        [0.2692],\n",
      "        [0.2692],\n",
      "        [0.2692],\n",
      "        [0.2692]], grad_fn=<AddmmBackward0>)\n"
     ]
    }
   ],
   "source": [
    "out = rnn(input)"
   ]
  },
  {
   "cell_type": "code",
   "execution_count": 135,
   "metadata": {},
   "outputs": [
    {
     "data": {
      "text/plain": [
       "torch.Size([8, 1])"
      ]
     },
     "execution_count": 135,
     "metadata": {},
     "output_type": "execute_result"
    }
   ],
   "source": [
    "out.shape"
   ]
  },
  {
   "cell_type": "code",
   "execution_count": 97,
   "metadata": {},
   "outputs": [],
   "source": [
    "neural = nn.LSTM(1,4,1)\n",
    "h0 = torch.randn(1,4)\n",
    "c0 = torch.randn(1,4)\n",
    "output, (hn, cn) = neural(input, (h0, c0))"
   ]
  },
  {
   "cell_type": "code",
   "execution_count": 98,
   "metadata": {},
   "outputs": [],
   "source": [
    "input = train_data[0]['data'] # type: ignore\n",
    "input\n",
    "h_0 = torch.randn(1,8)\n",
    "c_0 = torch.randn(1,8)\n",
    "output = rnn(input)"
   ]
  },
  {
   "cell_type": "code",
   "execution_count": 147,
   "metadata": {},
   "outputs": [],
   "source": [
    "loss_fn = torch.nn.MSELoss()"
   ]
  },
  {
   "cell_type": "code",
   "execution_count": 148,
   "metadata": {},
   "outputs": [],
   "source": [
    "optimizer = torch.optim.SGD(rnn.parameters(), lr=0.001, momentum=0.9)"
   ]
  },
  {
   "cell_type": "code",
   "execution_count": 152,
   "metadata": {},
   "outputs": [],
   "source": [
    "def train_one_epoch(epoch_index, tb_writer):\n",
    "    running_loss = 0.\n",
    "    last_loss = 0.\n",
    "    for step, sample in enumerate(train_dl):\n",
    "        input = sample['data']\n",
    "        target = sample['target']\n",
    "        optimizer.zero_grad()\n",
    "\n",
    "        # Make predictions for this batch\n",
    "        output = rnn(input)\n",
    "        loss = loss_fn(output, target)\n",
    "        loss.backward()\n",
    "\n",
    "        # Adjust learning weights\n",
    "        optimizer.step()\n",
    "\n",
    "        # Gather data and report\n",
    "        running_loss += loss.item()\n",
    "        if step % 8 == 7:\n",
    "            last_loss = running_loss / 8 # loss per batch\n",
    "            print('  batch {} loss: {}'.format(step + 1, last_loss))\n",
    "            tb_x = epoch_index * len(train_dl) + step + 1\n",
    "            tb_writer.add_scalar('Loss/train', last_loss, tb_x)\n",
    "            running_loss = 0.\n",
    "\n",
    "    return last_loss"
   ]
  },
  {
   "cell_type": "code",
   "execution_count": 154,
   "metadata": {},
   "outputs": [
    {
     "name": "stdout",
     "output_type": "stream",
     "text": [
      "EPOCH 1:\n",
      "  batch 8 loss: 285.6800608634949\n",
      "  batch 16 loss: 21.294253706932068\n",
      "  batch 24 loss: 181.87126874923706\n",
      "  batch 32 loss: 129.16587162017822\n",
      "  batch 40 loss: 13.993345504626632\n",
      "  batch 48 loss: 3.346037469804287\n",
      "  batch 56 loss: 107.76296520233154\n",
      "  batch 64 loss: 107.37187206745148\n",
      "  batch 72 loss: 2.3675032146275043\n",
      "  batch 80 loss: 2.038617569953203\n",
      "  batch 88 loss: 3.8270446211099625\n",
      "  batch 96 loss: 5.677450679242611\n",
      "  batch 104 loss: 31.228965401649475\n",
      "  batch 112 loss: 54.96153926849365\n",
      "  batch 120 loss: 44.90354323387146\n",
      "  batch 128 loss: 11.782090663909912\n",
      "  batch 136 loss: 19.760085582733154\n",
      "  batch 144 loss: 7.854134619235992\n",
      "  batch 152 loss: 17.454182982444763\n",
      "  batch 160 loss: 7.140122145414352\n",
      "  batch 168 loss: 6.771441638469696\n",
      "  batch 176 loss: 41.059249341487885\n",
      "  batch 184 loss: 30.536306381225586\n",
      "  batch 192 loss: 34.44527816772461\n",
      "  batch 200 loss: 11.366944670677185\n",
      "  batch 208 loss: 3.617546886205673\n",
      "  batch 216 loss: 0.9828535951673985\n",
      "  batch 224 loss: 3.4314790666103363\n",
      "  batch 232 loss: 0.7439091802225448\n",
      "  batch 240 loss: 12.477887153625488\n",
      "  batch 248 loss: 123.73639106750488\n",
      "  batch 256 loss: 34.862492084503174\n",
      "  batch 264 loss: 98.60366487503052\n",
      "  batch 272 loss: 70.55839157104492\n",
      "LOSS train 70.55839157104492 valid 223.63294982910156\n",
      "EPOCH 2:\n",
      "  batch 8 loss: 287.7144432067871\n",
      "  batch 16 loss: 21.695568054914474\n",
      "  batch 24 loss: 182.9316005706787\n",
      "  batch 32 loss: 129.91034317016602\n",
      "  batch 40 loss: 13.963782161474228\n",
      "  batch 48 loss: 3.314661517739296\n",
      "  batch 56 loss: 107.43958008289337\n",
      "  batch 64 loss: 107.10037994384766\n",
      "  batch 72 loss: 2.343769935891032\n",
      "  batch 80 loss: 2.0574919506907463\n",
      "  batch 88 loss: 3.851056359708309\n",
      "  batch 96 loss: 5.7026247680187225\n",
      "  batch 104 loss: 31.28146457672119\n",
      "  batch 112 loss: 55.01886224746704\n",
      "  batch 120 loss: 44.94554805755615\n",
      "  batch 128 loss: 11.799420714378357\n",
      "  batch 136 loss: 19.77837347984314\n",
      "  batch 144 loss: 7.863266944885254\n",
      "  batch 152 loss: 17.465346693992615\n",
      "  batch 160 loss: 7.1413573026657104\n",
      "  batch 168 loss: 6.767078340053558\n",
      "  batch 176 loss: 41.05112445354462\n",
      "  batch 184 loss: 30.530110836029053\n",
      "  batch 192 loss: 34.44000768661499\n",
      "  batch 200 loss: 11.364497780799866\n",
      "  batch 208 loss: 3.616440564393997\n",
      "  batch 216 loss: 0.9826714750379324\n",
      "  batch 224 loss: 3.4308523796498775\n",
      "  batch 232 loss: 0.7440405758097768\n",
      "  batch 240 loss: 12.477787839248776\n",
      "  batch 248 loss: 123.73406457901001\n",
      "  batch 256 loss: 34.86150813102722\n",
      "  batch 264 loss: 98.60227108001709\n",
      "  batch 272 loss: 70.55748057365417\n",
      "LOSS train 70.55748057365417 valid 223.6322021484375\n",
      "EPOCH 3:\n",
      "  batch 8 loss: 287.71566104888916\n",
      "  batch 16 loss: 21.695778876543045\n",
      "  batch 24 loss: 182.93216800689697\n",
      "  batch 32 loss: 129.91083335876465\n",
      "  batch 40 loss: 13.96374973282218\n",
      "  batch 48 loss: 3.314637616276741\n",
      "  batch 56 loss: 107.43940138816833\n",
      "  batch 64 loss: 107.10030603408813\n",
      "  batch 72 loss: 2.343785224482417\n",
      "  batch 80 loss: 2.057476371526718\n",
      "  batch 88 loss: 3.8510539904236794\n",
      "  batch 96 loss: 5.7026247680187225\n",
      "  batch 104 loss: 31.28146457672119\n",
      "  batch 112 loss: 55.01886224746704\n",
      "  batch 120 loss: 44.94552707672119\n",
      "  batch 128 loss: 11.799420714378357\n",
      "  batch 136 loss: 19.778368949890137\n",
      "  batch 144 loss: 7.863266944885254\n",
      "  batch 152 loss: 17.46532368659973\n",
      "  batch 160 loss: 7.141350626945496\n",
      "  batch 168 loss: 6.767078340053558\n",
      "  batch 176 loss: 41.05112445354462\n",
      "  batch 184 loss: 30.530110836029053\n",
      "  batch 192 loss: 34.44000768661499\n",
      "  batch 200 loss: 11.364497780799866\n",
      "  batch 208 loss: 3.616440564393997\n",
      "  batch 216 loss: 0.9826714750379324\n",
      "  batch 224 loss: 3.4308523796498775\n",
      "  batch 232 loss: 0.7440405758097768\n",
      "  batch 240 loss: 12.477787839248776\n",
      "  batch 248 loss: 123.73406457901001\n",
      "  batch 256 loss: 34.86150813102722\n",
      "  batch 264 loss: 98.60227108001709\n",
      "  batch 272 loss: 70.55748057365417\n",
      "LOSS train 70.55748057365417 valid 223.6322021484375\n",
      "EPOCH 4:\n",
      "  batch 8 loss: 287.7155714035034\n",
      "  batch 16 loss: 21.695778876543045\n",
      "  batch 24 loss: 182.93215656280518\n",
      "  batch 32 loss: 129.9107894897461\n",
      "  batch 40 loss: 13.96374973282218\n",
      "  batch 48 loss: 3.314637616276741\n",
      "  batch 56 loss: 107.43940138816833\n",
      "  batch 64 loss: 107.10030603408813\n",
      "  batch 72 loss: 2.343785224482417\n",
      "  batch 80 loss: 2.057476371526718\n",
      "  batch 88 loss: 3.8510539904236794\n",
      "  batch 96 loss: 5.7026247680187225\n",
      "  batch 104 loss: 31.28146457672119\n",
      "  batch 112 loss: 55.01886224746704\n",
      "  batch 120 loss: 44.94552278518677\n",
      "  batch 128 loss: 11.79941976070404\n",
      "  batch 136 loss: 19.778340458869934\n",
      "  batch 144 loss: 7.863257050514221\n",
      "  batch 152 loss: 17.465320944786072\n",
      "  batch 160 loss: 7.141346096992493\n",
      "  batch 168 loss: 6.767078340053558\n",
      "  batch 176 loss: 41.05112445354462\n",
      "  batch 184 loss: 30.530110836029053\n",
      "  batch 192 loss: 34.44000768661499\n",
      "  batch 200 loss: 11.364497780799866\n",
      "  batch 208 loss: 3.616440564393997\n",
      "  batch 216 loss: 0.9826714750379324\n",
      "  batch 224 loss: 3.4308523796498775\n",
      "  batch 232 loss: 0.7440405758097768\n",
      "  batch 240 loss: 12.477787839248776\n",
      "  batch 248 loss: 123.73406457901001\n",
      "  batch 256 loss: 34.86150813102722\n",
      "  batch 264 loss: 98.60227108001709\n",
      "  batch 272 loss: 70.55748057365417\n",
      "LOSS train 70.55748057365417 valid 223.6322021484375\n",
      "EPOCH 5:\n",
      "  batch 8 loss: 287.71541690826416\n",
      "  batch 16 loss: 21.695778876543045\n",
      "  batch 24 loss: 182.93210792541504\n",
      "  batch 32 loss: 129.91072750091553\n",
      "  batch 40 loss: 13.96374973282218\n",
      "  batch 48 loss: 3.314637616276741\n",
      "  batch 56 loss: 107.43940138816833\n",
      "  batch 64 loss: 107.10030603408813\n",
      "  batch 72 loss: 2.343785224482417\n",
      "  batch 80 loss: 2.057476371526718\n",
      "  batch 88 loss: 3.8510539904236794\n",
      "  batch 96 loss: 5.7026247680187225\n",
      "  batch 104 loss: 31.28146457672119\n",
      "  batch 112 loss: 55.01882362365723\n",
      "  batch 120 loss: 44.94551086425781\n",
      "  batch 128 loss: 11.799398601055145\n",
      "  batch 136 loss: 19.778339982032776\n",
      "  batch 144 loss: 7.863246560096741\n",
      "  batch 152 loss: 17.465320944786072\n",
      "  batch 160 loss: 7.141346096992493\n",
      "  batch 168 loss: 6.767078340053558\n",
      "  batch 176 loss: 41.05112445354462\n",
      "  batch 184 loss: 30.530110836029053\n",
      "  batch 192 loss: 34.44000768661499\n",
      "  batch 200 loss: 11.364497780799866\n",
      "  batch 208 loss: 3.616440564393997\n",
      "  batch 216 loss: 0.9826714750379324\n",
      "  batch 224 loss: 3.4308523796498775\n",
      "  batch 232 loss: 0.7440405758097768\n",
      "  batch 240 loss: 12.477787839248776\n",
      "  batch 248 loss: 123.73406457901001\n",
      "  batch 256 loss: 34.86150813102722\n",
      "  batch 264 loss: 98.60227108001709\n",
      "  batch 272 loss: 70.55748057365417\n",
      "LOSS train 70.55748057365417 valid 223.6322021484375\n"
     ]
    }
   ],
   "source": [
    "timestamp = datetime.now().strftime('%Y%m%d_%H%M%S')\n",
    "writer = SummaryWriter('runs/trainer_{}'.format(timestamp))\n",
    "epoch_number = 0\n",
    "\n",
    "EPOCHS = 5\n",
    "\n",
    "best_vloss = 1_000_000.\n",
    "\n",
    "for epoch in range(EPOCHS):\n",
    "    print('EPOCH {}:'.format(epoch_number + 1))\n",
    "\n",
    "    # Make sure gradient tracking is on, and do a pass over the data\n",
    "    rnn.train(True)\n",
    "    avg_loss = train_one_epoch(epoch_number, writer)\n",
    "\n",
    "\n",
    "    running_vloss = 0.0\n",
    "    # Set the model to evaluation mode, disabling dropout and using population\n",
    "    # statistics for batch normalization.\n",
    "    rnn.eval()\n",
    "\n",
    "    # Disable gradient computation and reduce memory consumption.\n",
    "    with torch.no_grad():\n",
    "        for i, data in enumerate(test_dl):\n",
    "            vinputs = data['data']\n",
    "            vtarget = data['target']\n",
    "            voutputs = rnn(vinputs)\n",
    "            vloss = loss_fn(voutputs, vtarget)\n",
    "            running_vloss += vloss\n",
    "\n",
    "    avg_vloss = running_vloss / (i + 1)\n",
    "    print('LOSS train {} valid {}'.format(avg_loss, avg_vloss))\n",
    "\n",
    "    # Log the running loss averaged per batch\n",
    "    # for both training and validation\n",
    "    writer.add_scalars('Training vs. Validation Loss',\n",
    "                    { 'Training' : avg_loss, 'Validation' : avg_vloss },\n",
    "                    epoch_number + 1)\n",
    "    writer.flush()\n",
    "\n",
    "    # Track best performance, and save the model's state\n",
    "    if avg_vloss < best_vloss:\n",
    "        best_vloss = avg_vloss\n",
    "        model_path = 'model_{}_{}'.format(timestamp, epoch_number)\n",
    "        torch.save(rnn.state_dict(), model_path)\n",
    "\n",
    "    epoch_number += 1"
   ]
  },
  {
   "cell_type": "code",
   "execution_count": null,
   "metadata": {},
   "outputs": [],
   "source": []
  }
 ],
 "metadata": {
  "kernelspec": {
   "display_name": "Python 3",
   "language": "python",
   "name": "python3"
  },
  "language_info": {
   "codemirror_mode": {
    "name": "ipython",
    "version": 3
   },
   "file_extension": ".py",
   "mimetype": "text/x-python",
   "name": "python",
   "nbconvert_exporter": "python",
   "pygments_lexer": "ipython3",
   "version": "3.12.1"
  }
 },
 "nbformat": 4,
 "nbformat_minor": 2
}
