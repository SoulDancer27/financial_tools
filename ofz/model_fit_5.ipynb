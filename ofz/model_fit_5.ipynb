{
 "cells": [
  {
   "cell_type": "code",
   "execution_count": 1034,
   "metadata": {},
   "outputs": [],
   "source": [
    "import pandas as pd\n",
    "import numpy as np\n",
    "import matplotlib.pyplot as plt\n",
    "import seaborn as sns\n",
    "from sklearn.model_selection import train_test_split"
   ]
  },
  {
   "cell_type": "code",
   "execution_count": 1035,
   "metadata": {},
   "outputs": [],
   "source": [
    "all_data = pd.read_csv(\"./OFZ Data - Dataset.csv\")\n",
    "data = all_data[[\"years_to_maturity\", \"Rate\", \"Inflation\", \"moex_ytm\"]]\n",
    "data = data.apply(pd.to_numeric)"
   ]
  },
  {
   "cell_type": "code",
   "execution_count": 1195,
   "metadata": {},
   "outputs": [
    {
     "name": "stdout",
     "output_type": "stream",
     "text": [
      "(179, 7)\n"
     ]
    },
    {
     "name": "stderr",
     "output_type": "stream",
     "text": [
      "C:\\Users\\igor\\AppData\\Local\\Temp\\ipykernel_13056\\1966550749.py:3: SettingWithCopyWarning: \n",
      "A value is trying to be set on a copy of a slice from a DataFrame.\n",
      "Try using .loc[row_indexer,col_indexer] = value instead\n",
      "\n",
      "See the caveats in the documentation: https://pandas.pydata.org/pandas-docs/stable/user_guide/indexing.html#returning-a-view-versus-a-copy\n",
      "  sample[\"lnt\"] = np.log(sample[\"years_to_maturity\"])\n",
      "C:\\Users\\igor\\AppData\\Local\\Temp\\ipykernel_13056\\1966550749.py:4: SettingWithCopyWarning: \n",
      "A value is trying to be set on a copy of a slice from a DataFrame.\n",
      "Try using .loc[row_indexer,col_indexer] = value instead\n",
      "\n",
      "See the caveats in the documentation: https://pandas.pydata.org/pandas-docs/stable/user_guide/indexing.html#returning-a-view-versus-a-copy\n",
      "  sample[\"et\"] = np.exp(-0.5 *sample[\"years_to_maturity\"])\n",
      "C:\\Users\\igor\\AppData\\Local\\Temp\\ipykernel_13056\\1966550749.py:5: SettingWithCopyWarning: \n",
      "A value is trying to be set on a copy of a slice from a DataFrame.\n",
      "Try using .loc[row_indexer,col_indexer] = value instead\n",
      "\n",
      "See the caveats in the documentation: https://pandas.pydata.org/pandas-docs/stable/user_guide/indexing.html#returning-a-view-versus-a-copy\n",
      "  sample[\"lnR\"] = np.exp(sample[\"Rate\"])\n"
     ]
    }
   ],
   "source": [
    "sample = data[data[\"Rate\"] >10]\n",
    "#sample = data[(data[\"Rate\"]<=8) & (data[\"Rate\"] > 7.5)]\n",
    "sample[\"lnt\"] = np.log(sample[\"years_to_maturity\"])\n",
    "sample[\"et\"] = np.exp(-0.5 *sample[\"years_to_maturity\"])\n",
    "sample[\"lnR\"] = np.exp(sample[\"Rate\"])\n",
    "print(sample.shape)"
   ]
  },
  {
   "cell_type": "code",
   "execution_count": 1196,
   "metadata": {},
   "outputs": [
    {
     "data": {
      "image/png": "[encoded data removed]",
      "text/plain": [
       "<Figure size 1000x500 with 6 Axes>"
      ]
     },
     "metadata": {},
     "output_type": "display_data"
    }
   ],
   "source": [
    "fig, axs = plt.subplots(2,3, figsize = (10,5))\n",
    "plt1 = sns.boxplot(sample['moex_ytm'], ax = axs[0,0])\n",
    "\n",
    "plt.tight_layout()"
   ]
  },
  {
   "cell_type": "code",
   "execution_count": 1197,
   "metadata": {},
   "outputs": [
    {
     "data": {
      "text/plain": [
       "'\\nplt.boxplot(sample.moex_ytm)\\nQ1 = sample.moex_ytm.quantile(0.25)\\nQ3 = sample.moex_ytm.quantile(0.75)\\nIQR = Q3 - Q1\\nsample = sample[(sample.moex_ytm >= Q1 - IQR) & (sample.moex_ytm <= Q3 + IQR)]\\n'"
      ]
     },
     "execution_count": 1197,
     "metadata": {},
     "output_type": "execute_result"
    }
   ],
   "source": [
    "\"\"\"\n",
    "plt.boxplot(sample.moex_ytm)\n",
    "Q1 = sample.moex_ytm.quantile(0.25)\n",
    "Q3 = sample.moex_ytm.quantile(0.75)\n",
    "IQR = Q3 - Q1\n",
    "sample = sample[(sample.moex_ytm >= Q1 - IQR) & (sample.moex_ytm <= Q3 + IQR)]\n",
    "\"\"\""
   ]
  },
  {
   "cell_type": "code",
   "execution_count": 1198,
   "metadata": {},
   "outputs": [],
   "source": [
    "#sns.pairplot(sample)"
   ]
  },
  {
   "cell_type": "code",
   "execution_count": 1199,
   "metadata": {},
   "outputs": [],
   "source": [
    "np.random.seed(0)\n",
    "df_train, df_test = train_test_split(sample, train_size = 0.7, test_size = 0.3, random_state = 100)\n",
    "y_train = df_train.pop('moex_ytm')\n",
    "X_train = df_train"
   ]
  },
  {
   "cell_type": "code",
   "execution_count": 1214,
   "metadata": {},
   "outputs": [
    {
     "data": {
      "text/plain": [
       "[('years_to_maturity', True, 1),\n",
       " ('Rate', True, 1),\n",
       " ('Inflation', True, 1),\n",
       " ('lnt', True, 1),\n",
       " ('et', False, 3),\n",
       " ('lnR', False, 2)]"
      ]
     },
     "execution_count": 1214,
     "metadata": {},
     "output_type": "execute_result"
    }
   ],
   "source": [
    "from sklearn.feature_selection import RFE\n",
    "from sklearn.linear_model import LinearRegression\n",
    "from sklearn.linear_model import ElasticNet\n",
    "lm = ElasticNet(0.1)\n",
    "lm.fit(X_train, y_train)\n",
    "rfe = RFE(lm, n_features_to_select=4)             # running RFE\n",
    "rfe = rfe.fit(X_train, y_train)\n",
    "list(zip(X_train.columns,rfe.support_,rfe.ranking_))"
   ]
  },
  {
   "cell_type": "code",
   "execution_count": 1215,
   "metadata": {},
   "outputs": [
    {
     "name": "stdout",
     "output_type": "stream",
     "text": [
      "                            OLS Regression Results                            \n",
      "==============================================================================\n",
      "Dep. Variable:               moex_ytm   R-squared:                       0.817\n",
      "Model:                            OLS   Adj. R-squared:                  0.811\n",
      "Method:                 Least Squares   F-statistic:                     133.7\n",
      "Date:                Tue, 09 Jan 2024   Prob (F-statistic):           3.05e-43\n",
      "Time:                        17:22:24   Log-Likelihood:                -81.692\n",
      "No. Observations:                 125   AIC:                             173.4\n",
      "Df Residuals:                     120   BIC:                             187.5\n",
      "Df Model:                           4                                         \n",
      "Covariance Type:            nonrobust                                         \n",
      "=====================================================================================\n",
      "                        coef    std err          t      P>|t|      [0.025      0.975]\n",
      "-------------------------------------------------------------------------------------\n",
      "const                 9.5052      0.228     41.672      0.000       9.054       9.957\n",
      "years_to_maturity     0.0232      0.021      1.083      0.281      -0.019       0.066\n",
      "Rate                  0.2675      0.015     17.352      0.000       0.237       0.298\n",
      "Inflation            -0.1525      0.008    -18.778      0.000      -0.169      -0.136\n",
      "lnt                  -0.3068      0.115     -2.666      0.009      -0.535      -0.079\n",
      "==============================================================================\n",
      "Omnibus:                        8.928   Durbin-Watson:                   2.291\n",
      "Prob(Omnibus):                  0.012   Jarque-Bera (JB):               18.809\n",
      "Skew:                          -0.103   Prob(JB):                     8.24e-05\n",
      "Kurtosis:                       4.889   Cond. No.                         109.\n",
      "==============================================================================\n",
      "\n",
      "Notes:\n",
      "[1] Standard Errors assume that the covariance matrix of the errors is correctly specified.\n"
     ]
    }
   ],
   "source": [
    "import statsmodels.api as sm  \n",
    "col = X_train.columns[rfe.support_]\n",
    "X_train_rfe = X_train[col]\n",
    "X_train_rfe = sm.add_constant(X_train_rfe)\n",
    "lm = sm.OLS(y_train,X_train_rfe).fit()\n",
    "print(lm.summary())"
   ]
  },
  {
   "cell_type": "code",
   "execution_count": 1216,
   "metadata": {},
   "outputs": [
    {
     "data": {
      "image/png": "[encoded data removed]",
      "text/plain": [
       "<Figure size 640x480 with 1 Axes>"
      ]
     },
     "metadata": {},
     "output_type": "display_data"
    }
   ],
   "source": [
    "y_train_price = lm.predict(X_train_rfe)\n",
    "res = (y_train_price - y_train)\n",
    "plt.scatter(y_train,res)\n",
    "plt.show()"
   ]
  },
  {
   "cell_type": "code",
   "execution_count": 1217,
   "metadata": {},
   "outputs": [],
   "source": [
    "y_test = df_test['moex_ytm']\n",
    "X_test = df_test\n",
    "X_test = sm.add_constant(X_test, has_constant='add')"
   ]
  },
  {
   "cell_type": "code",
   "execution_count": 1218,
   "metadata": {},
   "outputs": [],
   "source": [
    "X_test_rfe = X_test[X_train_rfe.columns]\n",
    "y_pred = lm.predict(X_test_rfe)"
   ]
  },
  {
   "cell_type": "code",
   "execution_count": 1219,
   "metadata": {},
   "outputs": [
    {
     "data": {
      "text/plain": [
       "0.8872294020852214"
      ]
     },
     "execution_count": 1219,
     "metadata": {},
     "output_type": "execute_result"
    }
   ],
   "source": [
    "from sklearn.metrics import r2_score \n",
    "from sklearn.metrics import mean_absolute_percentage_error\n",
    "r2_score(y_test, y_pred)"
   ]
  },
  {
   "cell_type": "code",
   "execution_count": 1220,
   "metadata": {},
   "outputs": [
    {
     "data": {
      "text/plain": [
       "0.02157782012892194"
      ]
     },
     "execution_count": 1220,
     "metadata": {},
     "output_type": "execute_result"
    }
   ],
   "source": [
    "mean_absolute_percentage_error(y_test, y_pred)"
   ]
  }
 ],
 "metadata": {
  "kernelspec": {
   "display_name": "Python 3",
   "language": "python",
   "name": "python3"
  },
  "language_info": {
   "codemirror_mode": {
    "name": "ipython",
    "version": 3
   },
   "file_extension": ".py",
   "mimetype": "text/x-python",
   "name": "python",
   "nbconvert_exporter": "python",
   "pygments_lexer": "ipython3",
   "version": "3.12.1"
  }
 },
 "nbformat": 4,
 "nbformat_minor": 2
}
